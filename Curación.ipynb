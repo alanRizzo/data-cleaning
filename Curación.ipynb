{
  "nbformat": 4,
  "nbformat_minor": 0,
  "metadata": {
    "colab": {
      "name": "Curación.ipynb",
      "version": "0.3.2",
      "provenance": [],
      "collapsed_sections": [
        "C_zITiHmsdVu",
        "3oHW6zS5smbv",
        "zet5wF565767",
        "N9Pdt1GQsu9A",
        "amPWTwwOC4ZP",
        "93PlfBGmck5C",
        "wa0HaLOscnfS",
        "JVU6R3o9arnU"
      ]
    },
    "kernelspec": {
      "name": "python3",
      "display_name": "Python 3"
    },
    "accelerator": "GPU"
  },
  "cells": [
    {
      "metadata": {
        "id": "diSmFP1QoEml",
        "colab_type": "text"
      },
      "cell_type": "markdown",
      "source": [
        "# Ejercicio: Tablas de Crecimiento"
      ]
    },
    {
      "metadata": {
        "id": "IJILm15rPr0z",
        "colab_type": "code",
        "colab": {}
      },
      "cell_type": "code",
      "source": [
        "# si no usamos el docker hay q instalar estas librerios\n",
        "\n",
        "#!pip install -q gmplot\n",
        "#!pip install textacy\n",
        "#!pip install spacy\n",
        "#!python -m spacy download es_core_news_md"
      ],
      "execution_count": 0,
      "outputs": []
    },
    {
      "metadata": {
        "id": "j-ZNIRHPoQj6",
        "colab_type": "text"
      },
      "cell_type": "markdown",
      "source": [
        "*   Descargar dataset #1 y #2 en CSV [links](https://www.google.com/url?q=https://www.cdc.gov/growthcharts/percentile_data_files.htm&sa=D&ust=1526828193476000&usg=AFQjCNFcF89XwcM6kku7gdlMYJpSzVQE6g)\n"
      ]
    },
    {
      "metadata": {
        "id": "rEwbj17Xn-lM",
        "colab_type": "code",
        "colab": {}
      },
      "cell_type": "code",
      "source": [
        "import pandas as pd\n",
        "import numpy as np\n",
        "import matplotlib.pyplot as plt\n",
        "import seaborn as sns\n",
        "import timeit\n",
        "\n",
        "from gmplot import gmplot\n",
        "from IPython.display import FileLink, HTML\n",
        "\n",
        "np.random.seed(0)\n",
        "\n",
        "# Gráficos de peso por edad, desde el nacimiento hasta los 36 meses, \n",
        "# parámetros LMS y percentiles de peso suavizado en kilogramos, \n",
        "# por sexo y edad\n",
        "link1 = \"https://www.cdc.gov/growthcharts/data/zscore/wtageinf.csv\"\n",
        "weight = pd.read_csv(link1)\n",
        "\n",
        "# Gráficos de longitud para la edad, desde el nacimiento hasta los \n",
        "# 36 meses, parámetros LMS y percentiles seleccionados de longitud \n",
        "# recostada en centímetros, por sexo y edad\n",
        "link2 = \"https://www.cdc.gov/growthcharts/data/zscore/lenageinf.csv\"\n",
        "height = pd.read_csv(link2)"
      ],
      "execution_count": 0,
      "outputs": []
    },
    {
      "metadata": {
        "id": "PUCK7joToe0L",
        "colab_type": "text"
      },
      "cell_type": "markdown",
      "source": [
        "*   Graficar las curvas correspondientes a cada percentil para niños y niñas\n",
        "\n"
      ]
    },
    {
      "metadata": {
        "id": "jSOnb3zVtDcL",
        "colab_type": "text"
      },
      "cell_type": "markdown",
      "source": [
        "## Peso"
      ]
    },
    {
      "metadata": {
        "id": "C_zITiHmsdVu",
        "colab_type": "text"
      },
      "cell_type": "markdown",
      "source": [
        "### Análisis exploratorio"
      ]
    },
    {
      "metadata": {
        "id": "ufrAZWbmr2Ox",
        "colab_type": "code",
        "colab": {
          "base_uri": "https://localhost:8080/",
          "height": 272
        },
        "outputId": "b4716197-90c0-4773-e003-4c4304685374"
      },
      "cell_type": "code",
      "source": [
        "weight.dtypes"
      ],
      "execution_count": 80,
      "outputs": [
        {
          "output_type": "execute_result",
          "data": {
            "text/plain": [
              "Sex         int64\n",
              "Agemos    float64\n",
              "L         float64\n",
              "M         float64\n",
              "S         float64\n",
              "P3        float64\n",
              "P5        float64\n",
              "P10       float64\n",
              "P25       float64\n",
              "P50       float64\n",
              "P75       float64\n",
              "P90       float64\n",
              "P95       float64\n",
              "P97       float64\n",
              "dtype: object"
            ]
          },
          "metadata": {
            "tags": []
          },
          "execution_count": 80
        }
      ]
    },
    {
      "metadata": {
        "id": "oWQEmH9YocEu",
        "colab_type": "code",
        "colab": {
          "base_uri": "https://localhost:8080/",
          "height": 204
        },
        "outputId": "7259903c-779a-4d93-e11c-cb2b006a841d"
      },
      "cell_type": "code",
      "source": [
        "weight.sample(5)"
      ],
      "execution_count": 81,
      "outputs": [
        {
          "output_type": "execute_result",
          "data": {
            "text/html": [
              "<div>\n",
              "<style scoped>\n",
              "    .dataframe tbody tr th:only-of-type {\n",
              "        vertical-align: middle;\n",
              "    }\n",
              "\n",
              "    .dataframe tbody tr th {\n",
              "        vertical-align: top;\n",
              "    }\n",
              "\n",
              "    .dataframe thead th {\n",
              "        text-align: right;\n",
              "    }\n",
              "</style>\n",
              "<table border=\"1\" class=\"dataframe\">\n",
              "  <thead>\n",
              "    <tr style=\"text-align: right;\">\n",
              "      <th></th>\n",
              "      <th>Sex</th>\n",
              "      <th>Agemos</th>\n",
              "      <th>L</th>\n",
              "      <th>M</th>\n",
              "      <th>S</th>\n",
              "      <th>P3</th>\n",
              "      <th>P5</th>\n",
              "      <th>P10</th>\n",
              "      <th>P25</th>\n",
              "      <th>P50</th>\n",
              "      <th>P75</th>\n",
              "      <th>P90</th>\n",
              "      <th>P95</th>\n",
              "      <th>P97</th>\n",
              "    </tr>\n",
              "  </thead>\n",
              "  <tbody>\n",
              "    <tr>\n",
              "      <th>52</th>\n",
              "      <td>2</td>\n",
              "      <td>13.5</td>\n",
              "      <td>-0.223559</td>\n",
              "      <td>9.944226</td>\n",
              "      <td>0.106183</td>\n",
              "      <td>8.179356</td>\n",
              "      <td>8.378425</td>\n",
              "      <td>8.696684</td>\n",
              "      <td>9.262185</td>\n",
              "      <td>9.944226</td>\n",
              "      <td>10.688742</td>\n",
              "      <td>11.417920</td>\n",
              "      <td>11.883477</td>\n",
              "      <td>12.198293</td>\n",
              "    </tr>\n",
              "    <tr>\n",
              "      <th>57</th>\n",
              "      <td>2</td>\n",
              "      <td>18.5</td>\n",
              "      <td>-0.507701</td>\n",
              "      <td>11.088682</td>\n",
              "      <td>0.105144</td>\n",
              "      <td>9.184160</td>\n",
              "      <td>9.394782</td>\n",
              "      <td>9.733630</td>\n",
              "      <td>10.342415</td>\n",
              "      <td>11.088682</td>\n",
              "      <td>11.919211</td>\n",
              "      <td>12.749637</td>\n",
              "      <td>13.289041</td>\n",
              "      <td>13.657990</td>\n",
              "    </tr>\n",
              "    <tr>\n",
              "      <th>22</th>\n",
              "      <td>1</td>\n",
              "      <td>21.5</td>\n",
              "      <td>-0.168179</td>\n",
              "      <td>12.301541</td>\n",
              "      <td>0.108067</td>\n",
              "      <td>10.073105</td>\n",
              "      <td>10.325070</td>\n",
              "      <td>10.727592</td>\n",
              "      <td>11.441847</td>\n",
              "      <td>12.301541</td>\n",
              "      <td>13.237653</td>\n",
              "      <td>14.152010</td>\n",
              "      <td>14.734482</td>\n",
              "      <td>15.127765</td>\n",
              "    </tr>\n",
              "    <tr>\n",
              "      <th>75</th>\n",
              "      <td>2</td>\n",
              "      <td>36.0</td>\n",
              "      <td>-1.016653</td>\n",
              "      <td>13.865074</td>\n",
              "      <td>0.118939</td>\n",
              "      <td>11.334045</td>\n",
              "      <td>11.599289</td>\n",
              "      <td>12.033121</td>\n",
              "      <td>12.835999</td>\n",
              "      <td>13.865074</td>\n",
              "      <td>15.075293</td>\n",
              "      <td>16.362500</td>\n",
              "      <td>17.244688</td>\n",
              "      <td>17.870885</td>\n",
              "    </tr>\n",
              "    <tr>\n",
              "      <th>28</th>\n",
              "      <td>1</td>\n",
              "      <td>27.5</td>\n",
              "      <td>-0.295755</td>\n",
              "      <td>13.154497</td>\n",
              "      <td>0.108605</td>\n",
              "      <td>10.787982</td>\n",
              "      <td>11.052801</td>\n",
              "      <td>11.477280</td>\n",
              "      <td>12.234907</td>\n",
              "      <td>13.154497</td>\n",
              "      <td>14.165673</td>\n",
              "      <td>15.163512</td>\n",
              "      <td>15.804500</td>\n",
              "      <td>16.239671</td>\n",
              "    </tr>\n",
              "  </tbody>\n",
              "</table>\n",
              "</div>"
            ],
            "text/plain": [
              "    Sex  Agemos         L          M         S         P3         P5  \\\n",
              "52    2    13.5 -0.223559   9.944226  0.106183   8.179356   8.378425   \n",
              "57    2    18.5 -0.507701  11.088682  0.105144   9.184160   9.394782   \n",
              "22    1    21.5 -0.168179  12.301541  0.108067  10.073105  10.325070   \n",
              "75    2    36.0 -1.016653  13.865074  0.118939  11.334045  11.599289   \n",
              "28    1    27.5 -0.295755  13.154497  0.108605  10.787982  11.052801   \n",
              "\n",
              "          P10        P25        P50        P75        P90        P95  \\\n",
              "52   8.696684   9.262185   9.944226  10.688742  11.417920  11.883477   \n",
              "57   9.733630  10.342415  11.088682  11.919211  12.749637  13.289041   \n",
              "22  10.727592  11.441847  12.301541  13.237653  14.152010  14.734482   \n",
              "75  12.033121  12.835999  13.865074  15.075293  16.362500  17.244688   \n",
              "28  11.477280  12.234907  13.154497  14.165673  15.163512  15.804500   \n",
              "\n",
              "          P97  \n",
              "52  12.198293  \n",
              "57  13.657990  \n",
              "22  15.127765  \n",
              "75  17.870885  \n",
              "28  16.239671  "
            ]
          },
          "metadata": {
            "tags": []
          },
          "execution_count": 81
        }
      ]
    },
    {
      "metadata": {
        "id": "ZP-KKOE6rdNJ",
        "colab_type": "code",
        "colab": {
          "base_uri": "https://localhost:8080/",
          "height": 317
        },
        "outputId": "87da5c56-08d6-4bda-99b0-dfed2af683fc"
      },
      "cell_type": "code",
      "source": [
        "weight.describe()"
      ],
      "execution_count": 82,
      "outputs": [
        {
          "output_type": "execute_result",
          "data": {
            "text/html": [
              "<div>\n",
              "<style scoped>\n",
              "    .dataframe tbody tr th:only-of-type {\n",
              "        vertical-align: middle;\n",
              "    }\n",
              "\n",
              "    .dataframe tbody tr th {\n",
              "        vertical-align: top;\n",
              "    }\n",
              "\n",
              "    .dataframe thead th {\n",
              "        text-align: right;\n",
              "    }\n",
              "</style>\n",
              "<table border=\"1\" class=\"dataframe\">\n",
              "  <thead>\n",
              "    <tr style=\"text-align: right;\">\n",
              "      <th></th>\n",
              "      <th>Sex</th>\n",
              "      <th>Agemos</th>\n",
              "      <th>L</th>\n",
              "      <th>M</th>\n",
              "      <th>S</th>\n",
              "      <th>P3</th>\n",
              "      <th>P5</th>\n",
              "      <th>P10</th>\n",
              "      <th>P25</th>\n",
              "      <th>P50</th>\n",
              "      <th>P75</th>\n",
              "      <th>P90</th>\n",
              "      <th>P95</th>\n",
              "      <th>P97</th>\n",
              "    </tr>\n",
              "  </thead>\n",
              "  <tbody>\n",
              "    <tr>\n",
              "      <th>count</th>\n",
              "      <td>76.000000</td>\n",
              "      <td>76.000000</td>\n",
              "      <td>76.000000</td>\n",
              "      <td>76.000000</td>\n",
              "      <td>76.000000</td>\n",
              "      <td>76.000000</td>\n",
              "      <td>76.000000</td>\n",
              "      <td>76.000000</td>\n",
              "      <td>76.000000</td>\n",
              "      <td>76.000000</td>\n",
              "      <td>76.000000</td>\n",
              "      <td>76.000000</td>\n",
              "      <td>76.000000</td>\n",
              "      <td>76.000000</td>\n",
              "    </tr>\n",
              "    <tr>\n",
              "      <th>mean</th>\n",
              "      <td>1.500000</td>\n",
              "      <td>18.000000</td>\n",
              "      <td>-0.159380</td>\n",
              "      <td>10.500653</td>\n",
              "      <td>0.113703</td>\n",
              "      <td>8.555646</td>\n",
              "      <td>8.774327</td>\n",
              "      <td>9.123940</td>\n",
              "      <td>9.746218</td>\n",
              "      <td>10.500653</td>\n",
              "      <td>11.331908</td>\n",
              "      <td>12.156645</td>\n",
              "      <td>12.689973</td>\n",
              "      <td>13.054045</td>\n",
              "    </tr>\n",
              "    <tr>\n",
              "      <th>std</th>\n",
              "      <td>0.503322</td>\n",
              "      <td>10.994544</td>\n",
              "      <td>0.627920</td>\n",
              "      <td>2.997212</td>\n",
              "      <td>0.009747</td>\n",
              "      <td>2.581549</td>\n",
              "      <td>2.619041</td>\n",
              "      <td>2.684415</td>\n",
              "      <td>2.815592</td>\n",
              "      <td>2.997212</td>\n",
              "      <td>3.223077</td>\n",
              "      <td>3.471963</td>\n",
              "      <td>3.645593</td>\n",
              "      <td>3.769782</td>\n",
              "    </tr>\n",
              "    <tr>\n",
              "      <th>min</th>\n",
              "      <td>1.000000</td>\n",
              "      <td>0.000000</td>\n",
              "      <td>-1.016653</td>\n",
              "      <td>3.399186</td>\n",
              "      <td>0.105084</td>\n",
              "      <td>2.355451</td>\n",
              "      <td>2.526904</td>\n",
              "      <td>2.747222</td>\n",
              "      <td>3.064865</td>\n",
              "      <td>3.399186</td>\n",
              "      <td>3.717519</td>\n",
              "      <td>3.992572</td>\n",
              "      <td>4.152637</td>\n",
              "      <td>4.254922</td>\n",
              "    </tr>\n",
              "    <tr>\n",
              "      <th>25%</th>\n",
              "      <td>1.000000</td>\n",
              "      <td>8.500000</td>\n",
              "      <td>-0.562695</td>\n",
              "      <td>8.681272</td>\n",
              "      <td>0.108187</td>\n",
              "      <td>7.040830</td>\n",
              "      <td>7.228790</td>\n",
              "      <td>7.527762</td>\n",
              "      <td>8.054299</td>\n",
              "      <td>8.681272</td>\n",
              "      <td>9.355576</td>\n",
              "      <td>10.015958</td>\n",
              "      <td>10.440824</td>\n",
              "      <td>10.726893</td>\n",
              "    </tr>\n",
              "    <tr>\n",
              "      <th>50%</th>\n",
              "      <td>1.500000</td>\n",
              "      <td>18.000000</td>\n",
              "      <td>-0.188634</td>\n",
              "      <td>11.351482</td>\n",
              "      <td>0.110096</td>\n",
              "      <td>9.344228</td>\n",
              "      <td>9.568433</td>\n",
              "      <td>9.927990</td>\n",
              "      <td>10.570385</td>\n",
              "      <td>11.351482</td>\n",
              "      <td>12.212520</td>\n",
              "      <td>13.064862</td>\n",
              "      <td>13.613989</td>\n",
              "      <td>13.987582</td>\n",
              "    </tr>\n",
              "    <tr>\n",
              "      <th>75%</th>\n",
              "      <td>2.000000</td>\n",
              "      <td>27.500000</td>\n",
              "      <td>-0.018852</td>\n",
              "      <td>12.884560</td>\n",
              "      <td>0.115375</td>\n",
              "      <td>10.576634</td>\n",
              "      <td>10.832864</td>\n",
              "      <td>11.244542</td>\n",
              "      <td>11.982543</td>\n",
              "      <td>12.884560</td>\n",
              "      <td>13.885523</td>\n",
              "      <td>14.877694</td>\n",
              "      <td>15.570395</td>\n",
              "      <td>16.051213</td>\n",
              "    </tr>\n",
              "    <tr>\n",
              "      <th>max</th>\n",
              "      <td>2.000000</td>\n",
              "      <td>36.000000</td>\n",
              "      <td>1.815151</td>\n",
              "      <td>14.329944</td>\n",
              "      <td>0.152385</td>\n",
              "      <td>11.759784</td>\n",
              "      <td>12.039910</td>\n",
              "      <td>12.492682</td>\n",
              "      <td>13.312776</td>\n",
              "      <td>14.329944</td>\n",
              "      <td>15.477724</td>\n",
              "      <td>16.642369</td>\n",
              "      <td>17.408165</td>\n",
              "      <td>17.936247</td>\n",
              "    </tr>\n",
              "  </tbody>\n",
              "</table>\n",
              "</div>"
            ],
            "text/plain": [
              "             Sex     Agemos          L          M          S         P3  \\\n",
              "count  76.000000  76.000000  76.000000  76.000000  76.000000  76.000000   \n",
              "mean    1.500000  18.000000  -0.159380  10.500653   0.113703   8.555646   \n",
              "std     0.503322  10.994544   0.627920   2.997212   0.009747   2.581549   \n",
              "min     1.000000   0.000000  -1.016653   3.399186   0.105084   2.355451   \n",
              "25%     1.000000   8.500000  -0.562695   8.681272   0.108187   7.040830   \n",
              "50%     1.500000  18.000000  -0.188634  11.351482   0.110096   9.344228   \n",
              "75%     2.000000  27.500000  -0.018852  12.884560   0.115375  10.576634   \n",
              "max     2.000000  36.000000   1.815151  14.329944   0.152385  11.759784   \n",
              "\n",
              "              P5        P10        P25        P50        P75        P90  \\\n",
              "count  76.000000  76.000000  76.000000  76.000000  76.000000  76.000000   \n",
              "mean    8.774327   9.123940   9.746218  10.500653  11.331908  12.156645   \n",
              "std     2.619041   2.684415   2.815592   2.997212   3.223077   3.471963   \n",
              "min     2.526904   2.747222   3.064865   3.399186   3.717519   3.992572   \n",
              "25%     7.228790   7.527762   8.054299   8.681272   9.355576  10.015958   \n",
              "50%     9.568433   9.927990  10.570385  11.351482  12.212520  13.064862   \n",
              "75%    10.832864  11.244542  11.982543  12.884560  13.885523  14.877694   \n",
              "max    12.039910  12.492682  13.312776  14.329944  15.477724  16.642369   \n",
              "\n",
              "             P95        P97  \n",
              "count  76.000000  76.000000  \n",
              "mean   12.689973  13.054045  \n",
              "std     3.645593   3.769782  \n",
              "min     4.152637   4.254922  \n",
              "25%    10.440824  10.726893  \n",
              "50%    13.613989  13.987582  \n",
              "75%    15.570395  16.051213  \n",
              "max    17.408165  17.936247  "
            ]
          },
          "metadata": {
            "tags": []
          },
          "execution_count": 82
        }
      ]
    },
    {
      "metadata": {
        "id": "JT7QZ0-ZsFDL",
        "colab_type": "code",
        "colab": {
          "base_uri": "https://localhost:8080/",
          "height": 34
        },
        "outputId": "e91d15c1-7b56-4f2e-b0df-0d94be856077"
      },
      "cell_type": "code",
      "source": [
        "weight.shape"
      ],
      "execution_count": 83,
      "outputs": [
        {
          "output_type": "execute_result",
          "data": {
            "text/plain": [
              "(76, 14)"
            ]
          },
          "metadata": {
            "tags": []
          },
          "execution_count": 83
        }
      ]
    },
    {
      "metadata": {
        "id": "3oHW6zS5smbv",
        "colab_type": "text"
      },
      "cell_type": "markdown",
      "source": [
        "### Gráficos"
      ]
    },
    {
      "metadata": {
        "id": "zasYAL1ruyZl",
        "colab_type": "code",
        "colab": {
          "base_uri": "https://localhost:8080/",
          "height": 349
        },
        "outputId": "bff54afd-cec3-4eac-ad25-a4e71b3e91c7"
      },
      "cell_type": "code",
      "source": [
        "male = weight.loc[weight['Sex'] == 1]\n",
        "female = weight.loc[weight['Sex'] == 2]\n",
        "\n",
        "fig, ax = plt.subplots(nrows=1, \n",
        "                       ncols=2, \n",
        "                       figsize=(19,5))\n",
        "\n",
        "ax[0].set_title(\"Male\")\n",
        "\n",
        "for n in [male]:\n",
        "    ax[0].plot(male.Agemos, male.P5, label=\"P5\")\n",
        "    ax[0].plot(male.Agemos, male.P25, label=\"P25\")\n",
        "    ax[0].plot(male.Agemos, male.P50, label=\"P50\")\n",
        "    ax[0].plot(male.Agemos, male.P75, label=\"P75\")\n",
        "    ax[0].plot(male.Agemos, male.P95, label=\"P95\")\n",
        "\n",
        "ax[0].set_xlabel('Age in months')\n",
        "ax[0].set_ylabel('Weight in kg')\n",
        "\n",
        "leg = ax[0].legend(loc=9, mode=\"expand\")\n",
        "\n",
        "ax[1].set_title(\"Female\")\n",
        "\n",
        "for n in [female]:\n",
        "    ax[1].plot(female.Agemos, male.P5, label=\"P5\")\n",
        "    ax[1].plot(female.Agemos, male.P25, label=\"P25\")\n",
        "    ax[1].plot(female.Agemos, male.P50, label=\"P50\")\n",
        "    ax[1].plot(female.Agemos, male.P75, label=\"P75\")\n",
        "    ax[1].plot(female.Agemos, male.P95, label=\"P95\")\n",
        "\n",
        "ax[1].set_xlabel('Age in months')\n",
        "ax[1].set_ylabel('Weight in kg')\n",
        "\n",
        "leg = ax[1].legend(loc=9, mode=\"expand\")\n",
        "\n",
        "plt.show()"
      ],
      "execution_count": 84,
      "outputs": [
        {
          "output_type": "display_data",
          "data": {
            "image/png": "[encoded data removed]",
            "text/plain": [
              "<matplotlib.figure.Figure at 0x7ffb0295abe0>"
            ]
          },
          "metadata": {
            "tags": []
          }
        }
      ]
    },
    {
      "metadata": {
        "id": "zet5wF565767",
        "colab_type": "text"
      },
      "cell_type": "markdown",
      "source": [
        "## Altura"
      ]
    },
    {
      "metadata": {
        "id": "1tbecWZZsrPy",
        "colab_type": "text"
      },
      "cell_type": "markdown",
      "source": [
        "### Análisis exploratorio"
      ]
    },
    {
      "metadata": {
        "id": "mrU8pAmX6Aju",
        "colab_type": "code",
        "colab": {
          "base_uri": "https://localhost:8080/",
          "height": 598
        },
        "outputId": "e8861836-850a-4682-8fe3-b987c359dd9d"
      },
      "cell_type": "code",
      "source": [
        "height.dtypes"
      ],
      "execution_count": 85,
      "outputs": [
        {
          "output_type": "execute_result",
          "data": {
            "text/plain": [
              "Sex       object\n",
              "Agemos    object\n",
              "L         object\n",
              "M         object\n",
              "S         object\n",
              "P3        object\n",
              "P5        object\n",
              "P10       object\n",
              "P25       object\n",
              "P50       object\n",
              "P75       object\n",
              "P90       object\n",
              "P95       object\n",
              "P97       object\n",
              "Pub3      object\n",
              "Pub5      object\n",
              "Pub10     object\n",
              "Pub25     object\n",
              "Pub50     object\n",
              "Pub75     object\n",
              "Pub90     object\n",
              "Pub95     object\n",
              "Pub97     object\n",
              "Diff3     object\n",
              "Diff5     object\n",
              "Diff10    object\n",
              "Diff25    object\n",
              "Diff50    object\n",
              "Diff75    object\n",
              "Diff90    object\n",
              "Diff95    object\n",
              "Diff97    object\n",
              "dtype: object"
            ]
          },
          "metadata": {
            "tags": []
          },
          "execution_count": 85
        }
      ]
    },
    {
      "metadata": {
        "id": "aPoDcPTp6Br_",
        "colab_type": "code",
        "colab": {
          "base_uri": "https://localhost:8080/",
          "height": 321
        },
        "outputId": "09d87fa7-2762-46bf-f59f-4b1dfc57b8d9"
      },
      "cell_type": "code",
      "source": [
        "height.head(5)"
      ],
      "execution_count": 86,
      "outputs": [
        {
          "output_type": "execute_result",
          "data": {
            "text/html": [
              "<div>\n",
              "<style scoped>\n",
              "    .dataframe tbody tr th:only-of-type {\n",
              "        vertical-align: middle;\n",
              "    }\n",
              "\n",
              "    .dataframe tbody tr th {\n",
              "        vertical-align: top;\n",
              "    }\n",
              "\n",
              "    .dataframe thead th {\n",
              "        text-align: right;\n",
              "    }\n",
              "</style>\n",
              "<table border=\"1\" class=\"dataframe\">\n",
              "  <thead>\n",
              "    <tr style=\"text-align: right;\">\n",
              "      <th></th>\n",
              "      <th>Sex</th>\n",
              "      <th>Agemos</th>\n",
              "      <th>L</th>\n",
              "      <th>M</th>\n",
              "      <th>S</th>\n",
              "      <th>P3</th>\n",
              "      <th>P5</th>\n",
              "      <th>P10</th>\n",
              "      <th>P25</th>\n",
              "      <th>P50</th>\n",
              "      <th>...</th>\n",
              "      <th>Pub97</th>\n",
              "      <th>Diff3</th>\n",
              "      <th>Diff5</th>\n",
              "      <th>Diff10</th>\n",
              "      <th>Diff25</th>\n",
              "      <th>Diff50</th>\n",
              "      <th>Diff75</th>\n",
              "      <th>Diff90</th>\n",
              "      <th>Diff95</th>\n",
              "      <th>Diff97</th>\n",
              "    </tr>\n",
              "  </thead>\n",
              "  <tbody>\n",
              "    <tr>\n",
              "      <th>0</th>\n",
              "      <td>1</td>\n",
              "      <td>0</td>\n",
              "      <td>1.267004226</td>\n",
              "      <td>49.98888408</td>\n",
              "      <td>0.053112191</td>\n",
              "      <td>44.9250978</td>\n",
              "      <td>45.5684091</td>\n",
              "      <td>46.55429302</td>\n",
              "      <td>48.18937381</td>\n",
              "      <td>49.98888408</td>\n",
              "      <td>...</td>\n",
              "      <td>54.84011528</td>\n",
              "      <td>-0.081027735</td>\n",
              "      <td>-0.070741647</td>\n",
              "      <td>-0.054963622</td>\n",
              "      <td>-0.02880019</td>\n",
              "      <td>0</td>\n",
              "      <td>0.028525908</td>\n",
              "      <td>0.053972428</td>\n",
              "      <td>0.069107007</td>\n",
              "      <td>0.078889173</td>\n",
              "    </tr>\n",
              "    <tr>\n",
              "      <th>1</th>\n",
              "      <td>1</td>\n",
              "      <td>0.5</td>\n",
              "      <td>0.511237696</td>\n",
              "      <td>52.6959753</td>\n",
              "      <td>0.048692684</td>\n",
              "      <td>47.97812373</td>\n",
              "      <td>48.55809206</td>\n",
              "      <td>49.45780383</td>\n",
              "      <td>50.97918889</td>\n",
              "      <td>52.6959753</td>\n",
              "      <td>...</td>\n",
              "      <td>57.55495075</td>\n",
              "      <td>-0.071613958</td>\n",
              "      <td>-0.062817443</td>\n",
              "      <td>-0.049158167</td>\n",
              "      <td>-0.026064794</td>\n",
              "      <td>0</td>\n",
              "      <td>0.026486606</td>\n",
              "      <td>0.050680658</td>\n",
              "      <td>0.065325576</td>\n",
              "      <td>0.074892481</td>\n",
              "    </tr>\n",
              "    <tr>\n",
              "      <th>2</th>\n",
              "      <td>1</td>\n",
              "      <td>1.5</td>\n",
              "      <td>-0.45224446</td>\n",
              "      <td>56.62842855</td>\n",
              "      <td>0.04411683</td>\n",
              "      <td>52.19859469</td>\n",
              "      <td>52.72610659</td>\n",
              "      <td>53.55364657</td>\n",
              "      <td>54.97910441</td>\n",
              "      <td>56.62842855</td>\n",
              "      <td>...</td>\n",
              "      <td>61.55532574</td>\n",
              "      <td>-0.062572221</td>\n",
              "      <td>-0.055127414</td>\n",
              "      <td>-0.043436247</td>\n",
              "      <td>-0.023301752</td>\n",
              "      <td>0</td>\n",
              "      <td>0.024330926</td>\n",
              "      <td>0.047154107</td>\n",
              "      <td>0.061256919</td>\n",
              "      <td>0.07058914</td>\n",
              "    </tr>\n",
              "    <tr>\n",
              "      <th>3</th>\n",
              "      <td>1</td>\n",
              "      <td>2.5</td>\n",
              "      <td>-0.990594599</td>\n",
              "      <td>59.60895343</td>\n",
              "      <td>0.041795583</td>\n",
              "      <td>55.2632178</td>\n",
              "      <td>55.7734505</td>\n",
              "      <td>56.57772145</td>\n",
              "      <td>57.97439882</td>\n",
              "      <td>59.60895343</td>\n",
              "      <td>...</td>\n",
              "      <td>64.62419672</td>\n",
              "      <td>-0.05831472</td>\n",
              "      <td>-0.051474179</td>\n",
              "      <td>-0.040679858</td>\n",
              "      <td>-0.021938467</td>\n",
              "      <td>0</td>\n",
              "      <td>0.023205197</td>\n",
              "      <td>0.045261255</td>\n",
              "      <td>0.059035426</td>\n",
              "      <td>0.068212371</td>\n",
              "    </tr>\n",
              "    <tr>\n",
              "      <th>4</th>\n",
              "      <td>1</td>\n",
              "      <td>3.5</td>\n",
              "      <td>-1.285837689</td>\n",
              "      <td>62.07700027</td>\n",
              "      <td>0.040454126</td>\n",
              "      <td>57.73049293</td>\n",
              "      <td>58.23744339</td>\n",
              "      <td>59.03830227</td>\n",
              "      <td>60.43433439</td>\n",
              "      <td>62.07700027</td>\n",
              "      <td>...</td>\n",
              "      <td>67.18521797</td>\n",
              "      <td>-0.056005918</td>\n",
              "      <td>-0.049479876</td>\n",
              "      <td>-0.039158669</td>\n",
              "      <td>-0.021170834</td>\n",
              "      <td>0</td>\n",
              "      <td>0.022533976</td>\n",
              "      <td>0.044092493</td>\n",
              "      <td>0.057628415</td>\n",
              "      <td>0.066678</td>\n",
              "    </tr>\n",
              "  </tbody>\n",
              "</table>\n",
              "<p>5 rows × 32 columns</p>\n",
              "</div>"
            ],
            "text/plain": [
              "  Sex Agemos             L            M            S           P3  \\\n",
              "0   1      0   1.267004226  49.98888408  0.053112191   44.9250978   \n",
              "1   1    0.5   0.511237696   52.6959753  0.048692684  47.97812373   \n",
              "2   1    1.5   -0.45224446  56.62842855   0.04411683  52.19859469   \n",
              "3   1    2.5  -0.990594599  59.60895343  0.041795583   55.2632178   \n",
              "4   1    3.5  -1.285837689  62.07700027  0.040454126  57.73049293   \n",
              "\n",
              "            P5          P10          P25          P50     ...       \\\n",
              "0   45.5684091  46.55429302  48.18937381  49.98888408     ...        \n",
              "1  48.55809206  49.45780383  50.97918889   52.6959753     ...        \n",
              "2  52.72610659  53.55364657  54.97910441  56.62842855     ...        \n",
              "3   55.7734505  56.57772145  57.97439882  59.60895343     ...        \n",
              "4  58.23744339  59.03830227  60.43433439  62.07700027     ...        \n",
              "\n",
              "         Pub97         Diff3         Diff5        Diff10        Diff25 Diff50  \\\n",
              "0  54.84011528  -0.081027735  -0.070741647  -0.054963622   -0.02880019      0   \n",
              "1  57.55495075  -0.071613958  -0.062817443  -0.049158167  -0.026064794      0   \n",
              "2  61.55532574  -0.062572221  -0.055127414  -0.043436247  -0.023301752      0   \n",
              "3  64.62419672   -0.05831472  -0.051474179  -0.040679858  -0.021938467      0   \n",
              "4  67.18521797  -0.056005918  -0.049479876  -0.039158669  -0.021170834      0   \n",
              "\n",
              "        Diff75       Diff90       Diff95       Diff97  \n",
              "0  0.028525908  0.053972428  0.069107007  0.078889173  \n",
              "1  0.026486606  0.050680658  0.065325576  0.074892481  \n",
              "2  0.024330926  0.047154107  0.061256919   0.07058914  \n",
              "3  0.023205197  0.045261255  0.059035426  0.068212371  \n",
              "4  0.022533976  0.044092493  0.057628415     0.066678  \n",
              "\n",
              "[5 rows x 32 columns]"
            ]
          },
          "metadata": {
            "tags": []
          },
          "execution_count": 86
        }
      ]
    },
    {
      "metadata": {
        "id": "AFvis8FVE661",
        "colab_type": "code",
        "colab": {
          "base_uri": "https://localhost:8080/",
          "height": 598
        },
        "outputId": "d72d6359-8c84-4ab8-cd07-3280acb46533"
      },
      "cell_type": "code",
      "source": [
        "height.loc[37]"
      ],
      "execution_count": 87,
      "outputs": [
        {
          "output_type": "execute_result",
          "data": {
            "text/plain": [
              "Sex          Sex\n",
              "Agemos    Agemos\n",
              "L              L\n",
              "M              M\n",
              "S              S\n",
              "P3            P3\n",
              "P5            P5\n",
              "P10          P10\n",
              "P25          P25\n",
              "P50          P50\n",
              "P75          P75\n",
              "P90          P90\n",
              "P95          P95\n",
              "P97          P97\n",
              "Pub3        Pub3\n",
              "Pub5        Pub5\n",
              "Pub10      Pub10\n",
              "Pub25      Pub25\n",
              "Pub50      Pub50\n",
              "Pub75      Pub75\n",
              "Pub90      Pub90\n",
              "Pub95      Pub95\n",
              "Pub97      Pub97\n",
              "Diff3      Diff3\n",
              "Diff5      Diff5\n",
              "Diff10    Diff10\n",
              "Diff25    Diff25\n",
              "Diff50    Diff50\n",
              "Diff75    Diff75\n",
              "Diff90    Diff90\n",
              "Diff95    Diff95\n",
              "Diff97    Diff97\n",
              "Name: 37, dtype: object"
            ]
          },
          "metadata": {
            "tags": []
          },
          "execution_count": 87
        }
      ]
    },
    {
      "metadata": {
        "id": "ySuLqSrWFgwH",
        "colab_type": "code",
        "colab": {}
      },
      "cell_type": "code",
      "source": [
        "height_cleaned = height.drop(height.index[37])"
      ],
      "execution_count": 0,
      "outputs": []
    },
    {
      "metadata": {
        "id": "oMWIWF-q6B1d",
        "colab_type": "code",
        "colab": {
          "base_uri": "https://localhost:8080/",
          "height": 290
        },
        "outputId": "ddabf07e-04d6-4b91-df07-1d9de8525ed7"
      },
      "cell_type": "code",
      "source": [
        "height_cleaned.describe()"
      ],
      "execution_count": 89,
      "outputs": [
        {
          "output_type": "execute_result",
          "data": {
            "text/html": [
              "<div>\n",
              "<style scoped>\n",
              "    .dataframe tbody tr th:only-of-type {\n",
              "        vertical-align: middle;\n",
              "    }\n",
              "\n",
              "    .dataframe tbody tr th {\n",
              "        vertical-align: top;\n",
              "    }\n",
              "\n",
              "    .dataframe thead th {\n",
              "        text-align: right;\n",
              "    }\n",
              "</style>\n",
              "<table border=\"1\" class=\"dataframe\">\n",
              "  <thead>\n",
              "    <tr style=\"text-align: right;\">\n",
              "      <th></th>\n",
              "      <th>Sex</th>\n",
              "      <th>Agemos</th>\n",
              "      <th>L</th>\n",
              "      <th>M</th>\n",
              "      <th>S</th>\n",
              "      <th>P3</th>\n",
              "      <th>P5</th>\n",
              "      <th>P10</th>\n",
              "      <th>P25</th>\n",
              "      <th>P50</th>\n",
              "      <th>...</th>\n",
              "      <th>Pub97</th>\n",
              "      <th>Diff3</th>\n",
              "      <th>Diff5</th>\n",
              "      <th>Diff10</th>\n",
              "      <th>Diff25</th>\n",
              "      <th>Diff50</th>\n",
              "      <th>Diff75</th>\n",
              "      <th>Diff90</th>\n",
              "      <th>Diff95</th>\n",
              "      <th>Diff97</th>\n",
              "    </tr>\n",
              "  </thead>\n",
              "  <tbody>\n",
              "    <tr>\n",
              "      <th>count</th>\n",
              "      <td>74</td>\n",
              "      <td>74</td>\n",
              "      <td>74</td>\n",
              "      <td>74</td>\n",
              "      <td>74</td>\n",
              "      <td>74</td>\n",
              "      <td>74</td>\n",
              "      <td>74</td>\n",
              "      <td>74</td>\n",
              "      <td>74</td>\n",
              "      <td>...</td>\n",
              "      <td>74</td>\n",
              "      <td>74</td>\n",
              "      <td>74</td>\n",
              "      <td>74</td>\n",
              "      <td>74</td>\n",
              "      <td>74</td>\n",
              "      <td>74</td>\n",
              "      <td>74</td>\n",
              "      <td>74</td>\n",
              "      <td>74</td>\n",
              "    </tr>\n",
              "    <tr>\n",
              "      <th>unique</th>\n",
              "      <td>2</td>\n",
              "      <td>37</td>\n",
              "      <td>74</td>\n",
              "      <td>74</td>\n",
              "      <td>74</td>\n",
              "      <td>74</td>\n",
              "      <td>74</td>\n",
              "      <td>74</td>\n",
              "      <td>74</td>\n",
              "      <td>74</td>\n",
              "      <td>...</td>\n",
              "      <td>74</td>\n",
              "      <td>74</td>\n",
              "      <td>74</td>\n",
              "      <td>74</td>\n",
              "      <td>74</td>\n",
              "      <td>1</td>\n",
              "      <td>74</td>\n",
              "      <td>74</td>\n",
              "      <td>74</td>\n",
              "      <td>74</td>\n",
              "    </tr>\n",
              "    <tr>\n",
              "      <th>top</th>\n",
              "      <td>2</td>\n",
              "      <td>34.5</td>\n",
              "      <td>1.512301976</td>\n",
              "      <td>95.44636981</td>\n",
              "      <td>0.040454126</td>\n",
              "      <td>55.85939936</td>\n",
              "      <td>86.23378572</td>\n",
              "      <td>48.74248168</td>\n",
              "      <td>85.50360235</td>\n",
              "      <td>95.44636981</td>\n",
              "      <td>...</td>\n",
              "      <td>59.93512871</td>\n",
              "      <td>-0.056574859</td>\n",
              "      <td>-0.052522691</td>\n",
              "      <td>-0.042588728</td>\n",
              "      <td>-0.021632589</td>\n",
              "      <td>0</td>\n",
              "      <td>0.022337197</td>\n",
              "      <td>0.042577888</td>\n",
              "      <td>0.052916425</td>\n",
              "      <td>0.064047033</td>\n",
              "    </tr>\n",
              "    <tr>\n",
              "      <th>freq</th>\n",
              "      <td>37</td>\n",
              "      <td>2</td>\n",
              "      <td>1</td>\n",
              "      <td>1</td>\n",
              "      <td>1</td>\n",
              "      <td>1</td>\n",
              "      <td>1</td>\n",
              "      <td>1</td>\n",
              "      <td>1</td>\n",
              "      <td>1</td>\n",
              "      <td>...</td>\n",
              "      <td>1</td>\n",
              "      <td>1</td>\n",
              "      <td>1</td>\n",
              "      <td>1</td>\n",
              "      <td>1</td>\n",
              "      <td>74</td>\n",
              "      <td>1</td>\n",
              "      <td>1</td>\n",
              "      <td>1</td>\n",
              "      <td>1</td>\n",
              "    </tr>\n",
              "  </tbody>\n",
              "</table>\n",
              "<p>4 rows × 32 columns</p>\n",
              "</div>"
            ],
            "text/plain": [
              "       Sex Agemos            L            M            S           P3  \\\n",
              "count   74     74           74           74           74           74   \n",
              "unique   2     37           74           74           74           74   \n",
              "top      2   34.5  1.512301976  95.44636981  0.040454126  55.85939936   \n",
              "freq    37      2            1            1            1            1   \n",
              "\n",
              "                 P5          P10          P25          P50     ...       \\\n",
              "count            74           74           74           74     ...        \n",
              "unique           74           74           74           74     ...        \n",
              "top     86.23378572  48.74248168  85.50360235  95.44636981     ...        \n",
              "freq              1            1            1            1     ...        \n",
              "\n",
              "              Pub97         Diff3         Diff5        Diff10        Diff25  \\\n",
              "count            74            74            74            74            74   \n",
              "unique           74            74            74            74            74   \n",
              "top     59.93512871  -0.056574859  -0.052522691  -0.042588728  -0.021632589   \n",
              "freq              1             1             1             1             1   \n",
              "\n",
              "       Diff50       Diff75       Diff90       Diff95       Diff97  \n",
              "count      74           74           74           74           74  \n",
              "unique      1           74           74           74           74  \n",
              "top         0  0.022337197  0.042577888  0.052916425  0.064047033  \n",
              "freq       74            1            1            1            1  \n",
              "\n",
              "[4 rows x 32 columns]"
            ]
          },
          "metadata": {
            "tags": []
          },
          "execution_count": 89
        }
      ]
    },
    {
      "metadata": {
        "id": "0q7hkbbJ6B4X",
        "colab_type": "code",
        "colab": {
          "base_uri": "https://localhost:8080/",
          "height": 54
        },
        "outputId": "5ea24328-79a3-4a75-ed48-39348ce1a104"
      },
      "cell_type": "code",
      "source": [
        "height.shape"
      ],
      "execution_count": 90,
      "outputs": [
        {
          "output_type": "execute_result",
          "data": {
            "text/plain": [
              "(75, 32)"
            ]
          },
          "metadata": {
            "tags": []
          },
          "execution_count": 90
        }
      ]
    },
    {
      "metadata": {
        "id": "WPQHFNP47wde",
        "colab_type": "code",
        "colab": {
          "base_uri": "https://localhost:8080/",
          "height": 598
        },
        "outputId": "c90d0bb7-e9fc-414b-9502-350b3f8c5013"
      },
      "cell_type": "code",
      "source": [
        "height_parsed = height_cleaned.astype('float64')\n",
        "height_parsed.dtypes"
      ],
      "execution_count": 91,
      "outputs": [
        {
          "output_type": "execute_result",
          "data": {
            "text/plain": [
              "Sex       float64\n",
              "Agemos    float64\n",
              "L         float64\n",
              "M         float64\n",
              "S         float64\n",
              "P3        float64\n",
              "P5        float64\n",
              "P10       float64\n",
              "P25       float64\n",
              "P50       float64\n",
              "P75       float64\n",
              "P90       float64\n",
              "P95       float64\n",
              "P97       float64\n",
              "Pub3      float64\n",
              "Pub5      float64\n",
              "Pub10     float64\n",
              "Pub25     float64\n",
              "Pub50     float64\n",
              "Pub75     float64\n",
              "Pub90     float64\n",
              "Pub95     float64\n",
              "Pub97     float64\n",
              "Diff3     float64\n",
              "Diff5     float64\n",
              "Diff10    float64\n",
              "Diff25    float64\n",
              "Diff50    float64\n",
              "Diff75    float64\n",
              "Diff90    float64\n",
              "Diff95    float64\n",
              "Diff97    float64\n",
              "dtype: object"
            ]
          },
          "metadata": {
            "tags": []
          },
          "execution_count": 91
        }
      ]
    },
    {
      "metadata": {
        "id": "N9Pdt1GQsu9A",
        "colab_type": "text"
      },
      "cell_type": "markdown",
      "source": [
        "### Gráficos"
      ]
    },
    {
      "metadata": {
        "id": "UPhGEYe56B6Z",
        "colab_type": "code",
        "colab": {
          "base_uri": "https://localhost:8080/",
          "height": 369
        },
        "outputId": "623761ea-0775-4597-876a-edc0d0060a20"
      },
      "cell_type": "code",
      "source": [
        "male = height_parsed.loc[height_parsed['Sex'] == 1]\n",
        "female = height_parsed.loc[height_parsed['Sex'] == 2]\n",
        "\n",
        "\n",
        "fig, ax = plt.subplots(nrows=1, \n",
        "                       ncols=2, \n",
        "                       figsize=(19,5))\n",
        "\n",
        "ax[0].set_title(\"Male\")\n",
        "\n",
        "for n in [male]:\n",
        "    ax[0].plot(male.Agemos, male.P5, label=\"P5\")  \n",
        "    ax[0].plot(male.Agemos, male.P25, label=\"P25\")\n",
        "    ax[0].plot(male.Agemos, male.P50, label=\"P50\")\n",
        "    ax[0].plot(male.Agemos, male.P75, label=\"P75\")\n",
        "    ax[0].plot(male.Agemos, male.P95, label=\"P95\")\n",
        "    \n",
        "\n",
        "ax[0].set_xlabel('Age in months')\n",
        "ax[0].set_ylabel('Height in cm')\n",
        "\n",
        "leg = ax[0].legend(loc=9, mode=\"expand\")\n",
        "\n",
        "ax[1].set_title(\"Female\")\n",
        "\n",
        "for n in [female]:\n",
        "    ax[1].plot(female.Agemos, male.P5, label=\"P5\")  \n",
        "    ax[1].plot(female.Agemos, male.P25, label=\"P25\")\n",
        "    ax[1].plot(female.Agemos, male.P50, label=\"P50\")\n",
        "    ax[1].plot(female.Agemos, male.P75, label=\"P75\")\n",
        "    ax[1].plot(female.Agemos, male.P95, label=\"P95\")\n",
        "\n",
        "ax[1].set_xlabel('Age in months')\n",
        "ax[1].set_ylabel('Height in cm')\n",
        "\n",
        "leg = ax[1].legend(loc=9, mode=\"expand\")\n",
        "\n",
        "plt.show()"
      ],
      "execution_count": 92,
      "outputs": [
        {
          "output_type": "display_data",
          "data": {
            "image/png": "[encoded data removed]",
            "text/plain": [
              "<matplotlib.figure.Figure at 0x7ffb031b63c8>"
            ]
          },
          "metadata": {
            "tags": []
          }
        }
      ]
    },
    {
      "metadata": {
        "id": "amPWTwwOC4ZP",
        "colab_type": "text"
      },
      "cell_type": "markdown",
      "source": [
        "#   Ejercicio: Pasos Fronterizos de Argentina"
      ]
    },
    {
      "metadata": {
        "id": "v8t0ovxiDClr",
        "colab_type": "text"
      },
      "cell_type": "markdown",
      "source": [
        "*   Leer ubicaciones de pasos fronterizos y dibujar en un mapa."
      ]
    },
    {
      "metadata": {
        "id": "zkLPy8JU6B87",
        "colab_type": "code",
        "colab": {}
      },
      "cell_type": "code",
      "source": [
        "link = 'https://raw.githubusercontent.com/'\n",
        "path = 'DiploDatos/AnalisisYCuracion/master/input/pasos.json'\n",
        "paths = pd.read_json(link + path)"
      ],
      "execution_count": 0,
      "outputs": []
    },
    {
      "metadata": {
        "id": "bKiO8ZbJDqjm",
        "colab_type": "code",
        "colab": {}
      },
      "cell_type": "code",
      "source": [
        "# Place map\n",
        "gmap = gmplot.GoogleMapPlotter(-37.0196623, -81.638813, 4)\n",
        "\n",
        "lats, lons = zip(*paths.location)\n",
        "gmap.scatter(lats, lons, '#a00e16', size=400)\n",
        "\n",
        "# Draw\n",
        "gmap.draw(\"my_map.html\")\n"
      ],
      "execution_count": 0,
      "outputs": []
    },
    {
      "metadata": {
        "id": "PJe1hFWjfaZj",
        "colab_type": "text"
      },
      "cell_type": "markdown",
      "source": [
        "#  Ejercicio: Analizar texto\n",
        "\n",
        "\n",
        "*   Utilizar un texto de proyecto Gutenberg en castellano\n",
        "http://www.gutenberg.org/browse/languages/es\n",
        "*   Contar palabras y ordenar por frecuencia\n",
        "*   Limpiar preludio y licencia de Project Gutenberg\n",
        "*   Omitir “palabras vacías” (stop words) y símbolos\n",
        "*   Encontrar personajes\n",
        "*   Hacer un análisis extra a gusto\n",
        "*   Hint: Tutorial para español\n",
        "https://relopezbriega.github.io/blog/2017/09/23/procesamiento-del-lenguaje-natural-con-python/\n",
        "*  Usa spacy.io y github.com/chartbeat-labs/textacy\n",
        "\n"
      ]
    },
    {
      "metadata": {
        "id": "93PlfBGmck5C",
        "colab_type": "text"
      },
      "cell_type": "markdown",
      "source": [
        "## Dependencias"
      ]
    },
    {
      "metadata": {
        "id": "hicAKLIM2Q6m",
        "colab_type": "code",
        "colab": {}
      },
      "cell_type": "code",
      "source": [
        "import textacy\n",
        "import spacy\n",
        "import random\n",
        "from spacy import displacy\n",
        "from collections import Counter"
      ],
      "execution_count": 0,
      "outputs": []
    },
    {
      "metadata": {
        "id": "wa0HaLOscnfS",
        "colab_type": "text"
      },
      "cell_type": "markdown",
      "source": [
        "## Análisis"
      ]
    },
    {
      "metadata": {
        "id": "ULyjHUKKVRPq",
        "colab_type": "code",
        "colab": {
          "base_uri": "https://localhost:8080/",
          "height": 54
        },
        "outputId": "049070ee-84d9-40ed-822e-0514da71aa70"
      },
      "cell_type": "code",
      "source": [
        "# descargamos el archivo y lo leemos\n",
        "link = \"http://www.gutenberg.org/cache/epub/34565/pg34565.txt\"\n",
        "\n",
        "texto = ''\n",
        "name = 'CRÓNICAS DE MARIANELA'\n",
        "start =  '*** START OF THIS PROJECT GUTENBERG EBOOK '+ name +' ***\\n'\n",
        "stop = '*** END OF THIS PROJECT GUTENBERG EBOOK '+ name +' ***\\n'\n",
        "\n",
        "textacy.io.http.write_http_stream(link, \"texto.txt\")"
      ],
      "execution_count": 96,
      "outputs": [
        {
          "output_type": "stream",
          "text": [
            "332kB [00:00, 5.24MB/s]                   \n"
          ],
          "name": "stderr"
        }
      ]
    },
    {
      "metadata": {
        "id": "ymZ9nw1DOC8C",
        "colab_type": "code",
        "colab": {}
      },
      "cell_type": "code",
      "source": [
        "# limpiamos preludio y licencia de Project Gutenberg\n",
        "with open('texto.txt') as fp:\n",
        "    for line in iter(fp.readline, start):\n",
        "        pass\n",
        "    for line in iter(fp.readline, stop):\n",
        "        texto += line"
      ],
      "execution_count": 0,
      "outputs": []
    },
    {
      "metadata": {
        "id": "jR3CzIbvNyh9",
        "colab_type": "code",
        "colab": {}
      },
      "cell_type": "code",
      "source": [
        "# descartamos mails y urls, remplazamos palabras con acento y fixeamos \n",
        "# unicodes rotos como mojibake\n",
        "text = textacy.preprocess.preprocess_text(texto, \n",
        "                                          fix_unicode=True,\n",
        "                                          no_urls=True, \n",
        "                                          no_emails=True,\n",
        "                                          no_punct=True)\n",
        "\n",
        "# eliminamos signos\n",
        "text = textacy.preprocess.remove_punct(text, marks=\"-- * * * * *\\n\")\n",
        "\n",
        "# normalizamos espacios en blanco\n",
        "text = textacy.preprocess.normalize_whitespace(text)\n",
        "\n",
        "text_lower = textacy.preprocess.preprocess_text(text, \n",
        "                                                lowercase=True,\n",
        "                                                transliterate=True)\n",
        "\n",
        "nlp = textacy.load_spacy('es_core_news_md')\n",
        "\n",
        "# procesamos el texto\n",
        "texto_procesado_lower = nlp(text_lower)\n",
        "texto_procesado = nlp(text)\n",
        "\n",
        "textacy.TextStats(texto_procesado).basic_counts"
      ],
      "execution_count": 0,
      "outputs": []
    },
    {
      "metadata": {
        "id": "hlCS5F6wkCOm",
        "colab_type": "code",
        "colab": {}
      },
      "cell_type": "code",
      "source": [
        "# descartamos palabras vacias, stop words, los símbolos y las que \n",
        "# tiene frecuencia menor a 10\n",
        "\n",
        "words = textacy.extract.words(texto_procesado_lower, \n",
        "                              filter_stops=True, \n",
        "                              min_freq=10)"
      ],
      "execution_count": 0,
      "outputs": []
    },
    {
      "metadata": {
        "id": "IXWSF0Ywl6ug",
        "colab_type": "code",
        "colab": {}
      },
      "cell_type": "code",
      "source": [
        "# Contar palabras y ordenar por frecuencia\n",
        "counts_w = Counter()\n",
        "\n",
        "for token in words:\n",
        "    counts_w[token.orth_] += 1"
      ],
      "execution_count": 0,
      "outputs": []
    },
    {
      "metadata": {
        "id": "OovVJThWoIxo",
        "colab_type": "code",
        "colab": {
          "base_uri": "https://localhost:8080/",
          "height": 357
        },
        "outputId": "f3a367ec-2d66-472a-9491-6aeebf2df357"
      },
      "cell_type": "code",
      "source": [
        "# Mostramos las 10 palabras más comunes    \n",
        "counts_w.most_common(20)"
      ],
      "execution_count": 60,
      "outputs": [
        {
          "output_type": "execute_result",
          "data": {
            "text/plain": [
              "[('y', 1518),\n",
              " ('a', 1055),\n",
              " ('amor', 117),\n",
              " ('o', 117),\n",
              " ('mundo', 99),\n",
              " ('vida', 95),\n",
              " ('mujer', 87),\n",
              " ('espiritu', 78),\n",
              " ('marido', 73),\n",
              " ('hombre', 70),\n",
              " ('petrona', 59),\n",
              " ('casa', 58),\n",
              " ('rey', 49),\n",
              " ('amiga', 47),\n",
              " ('hijita', 47),\n",
              " ('demas', 41),\n",
              " ('secreto', 41),\n",
              " ('forma', 39),\n",
              " ('marianela', 38),\n",
              " ('hombres', 38)]"
            ]
          },
          "metadata": {
            "tags": []
          },
          "execution_count": 60
        }
      ]
    },
    {
      "metadata": {
        "id": "-rOFogwiUZFt",
        "colab_type": "code",
        "colab": {
          "base_uri": "https://localhost:8080/",
          "height": 34
        },
        "outputId": "91e9c48e-7076-4401-c2f7-6b96705d45dd"
      },
      "cell_type": "code",
      "source": [
        "set(ent.label_ for ent in texto_procesado.ents)"
      ],
      "execution_count": 61,
      "outputs": [
        {
          "output_type": "execute_result",
          "data": {
            "text/plain": [
              "{'LOC', 'MISC', 'ORG', 'PER'}"
            ]
          },
          "metadata": {
            "tags": []
          },
          "execution_count": 61
        }
      ]
    },
    {
      "metadata": {
        "id": "usAjQW00YrZo",
        "colab_type": "code",
        "colab": {}
      },
      "cell_type": "code",
      "source": [
        "personajes = textacy.extract.named_entities(texto_procesado, \n",
        "                                            include_types=[\"PER\"])"
      ],
      "execution_count": 0,
      "outputs": []
    },
    {
      "metadata": {
        "id": "C19bjoalkl_w",
        "colab_type": "code",
        "colab": {}
      },
      "cell_type": "code",
      "source": [
        "# Contar personajes y ordenar por frecuencia\n",
        "counts_p = Counter()\n",
        "\n",
        "for span in personajes:\n",
        "    counts_p[span.orth_] += 1"
      ],
      "execution_count": 0,
      "outputs": []
    },
    {
      "metadata": {
        "id": "ot2CU7yaH-_7",
        "colab_type": "code",
        "colab": {
          "base_uri": "https://localhost:8080/",
          "height": 357
        },
        "outputId": "8389750f-9c92-42e2-fc26-e48d18e3b733"
      },
      "cell_type": "code",
      "source": [
        "# Mostramos los personajes usando textacy    \n",
        "counts_p.most_common(20)"
      ],
      "execution_count": 64,
      "outputs": [
        {
          "output_type": "execute_result",
          "data": {
            "text/plain": [
              "[('Eleuterio', 28),\n",
              " ('Inesita', 19),\n",
              " ('Marianela', 18),\n",
              " ('Así', 14),\n",
              " ('', 13),\n",
              " ('Yo', 13),\n",
              " ('Jorge', 13),\n",
              " ('Ricardo', 12),\n",
              " ('Esquilón', 12),\n",
              " ('Margarita', 9),\n",
              " ('Dios', 8),\n",
              " ('Además', 7),\n",
              " ('Francisco Agustín Florencio', 7),\n",
              " ('Trajano', 7),\n",
              " ('Jorgito', 6),\n",
              " ('Bautista', 6),\n",
              " ('Claro', 5),\n",
              " ('Rosalía', 5),\n",
              " ('Hijita', 5),\n",
              " ('Daniel', 5)]"
            ]
          },
          "metadata": {
            "tags": []
          },
          "execution_count": 64
        }
      ]
    },
    {
      "metadata": {
        "id": "QHmKK9c8XCSY",
        "colab_type": "code",
        "colab": {
          "base_uri": "https://localhost:8080/",
          "height": 357
        },
        "outputId": "b1c15b7f-0bbb-4506-b967-20f1121fa5a3"
      },
      "cell_type": "code",
      "source": [
        "# Mostramos los personajes usando un script, desaparece \"('', 13)\"\n",
        "def extract_entities(doc, entity):\n",
        "    personajes = Counter()\n",
        "    \n",
        "    for ent in doc.ents:\n",
        "        if ent.label_ == entity:\n",
        "            personajes[ent.lemma_] += 1\n",
        "            \n",
        "    return personajes.most_common(20)\n",
        "  \n",
        "extract_entities(texto_procesado, 'PER')"
      ],
      "execution_count": 65,
      "outputs": [
        {
          "output_type": "execute_result",
          "data": {
            "text/plain": [
              "[('Eleuterio', 28),\n",
              " ('Inesita', 19),\n",
              " ('Marianela', 18),\n",
              " ('Así', 14),\n",
              " ('Yo', 13),\n",
              " ('Jorge', 13),\n",
              " ('Ricardo', 12),\n",
              " ('Esquilón', 12),\n",
              " ('Margarita', 9),\n",
              " ('Dios', 8),\n",
              " ('Además', 7),\n",
              " ('Francisco Agustín Florencio', 7),\n",
              " ('Trajano', 7),\n",
              " ('Jorgito', 6),\n",
              " ('Bautista', 6),\n",
              " ('Claro', 5),\n",
              " ('Rosalía', 5),\n",
              " ('Hijita', 5),\n",
              " ('Daniel', 5),\n",
              " ('Luisita', 5)]"
            ]
          },
          "metadata": {
            "tags": []
          },
          "execution_count": 65
        }
      ]
    },
    {
      "metadata": {
        "id": "dk8ATZ7ZNYUh",
        "colab_type": "code",
        "colab": {}
      },
      "cell_type": "code",
      "source": [
        "colors = {'PER': 'linear-gradient(90deg, #aa9cfc, #fc9ce7)'}\n",
        "options = {'ents': ['PER'], 'colors': colors}\n",
        "\n",
        "\n",
        "# descomentar las siguientes lineas para ver el texto resaltado\n",
        "#displacy.render(texto_procesado, \n",
        "#                style='ent', \n",
        "#                options=options, \n",
        "#                jupyter=True)"
      ],
      "execution_count": 0,
      "outputs": []
    },
    {
      "metadata": {
        "id": "VRIauPi4suf5",
        "colab_type": "text"
      },
      "cell_type": "markdown",
      "source": [
        "**Podemos observar, que existen personajes que el parser no pudo reconocer y también varios falsos positivos, esto se debe a que el core no es lo suficiente \"grande\" y le estaría faltando información para considerar estos casos. \n",
        "Hemos probado los dos cores que provee Spacy para el español y hubo una mejora al usar el de mayor peso.\n",
        "Una manera de mejorar los resultados podría ser agregando entidades personalizadas para entrenar el modelo. **"
      ]
    },
    {
      "metadata": {
        "id": "JVU6R3o9arnU",
        "colab_type": "text"
      },
      "cell_type": "markdown",
      "source": [
        "### Análisis extra"
      ]
    },
    {
      "metadata": {
        "id": "tZ_yzH1_ajF-",
        "colab_type": "code",
        "colab": {
          "base_uri": "https://localhost:8080/",
          "height": 187
        },
        "outputId": "ede47cc8-6022-4659-a5f5-40e0394430ea"
      },
      "cell_type": "code",
      "source": [
        "# creamos \"poemas\" random\n",
        "def word_pos(text):\n",
        "  result = {'noun': [],\n",
        "            'adj': [],\n",
        "            'adv': [],\n",
        "            'propn': [],\n",
        "            'adp': [],\n",
        "            'verb': []\n",
        "           }\n",
        "\n",
        "  for word in text:\n",
        "    if word.pos_ is 'NOUN':\n",
        "      result['noun'].append(word)\n",
        "    if word.pos_ is 'ADJ':\n",
        "      result['adj'].append(word) \n",
        "    if word.pos_ is 'ADV':\n",
        "      result['adv'].append(word) \n",
        "    if word.pos_ is 'PROPN':\n",
        "      result['propn'].append(word)\n",
        "    if word.pos_ is 'ADP':\n",
        "      result['adp'].append(word)      \n",
        "    if word.pos_ is 'VERB':\n",
        "      result['verb'].append(word)   \n",
        "  return result\n",
        "\n",
        "\n",
        "words = word_pos(texto_procesado)\n",
        "\n",
        "for i in range(10):\n",
        "    print(\"{} {} {} {} {}\".format(random.choice(words['propn']),\n",
        "                                  random.choice(words['verb']),\n",
        "                                  random.choice(words['adp']),\n",
        "                                  random.choice(words['noun']),\n",
        "                                  random.choice(words['adj']), \n",
        "                                  ))\n"
      ],
      "execution_count": 77,
      "outputs": [
        {
          "output_type": "stream",
          "text": [
            "Piensas acabe a bocas incapaces\n",
            "cuñado oía con hermana sola\n",
            "Chajales decir de rincones navegantes\n",
            "Clotilde seduce a presupuestos sugestionable\n",
            "Mi tiene de muchedumbre culto\n",
            "Nenín quieras para nieto rígidos\n",
            "Pública daban ante fundamento altos\n",
            "Chamfort produce en fusión asidas\n",
            "Rodríguez sacaré a poetas moral\n",
            "Mi Estuve con vida modernos\n"
          ],
          "name": "stdout"
        }
      ]
    },
    {
      "metadata": {
        "id": "-ZvMPUmnCkiK",
        "colab_type": "text"
      },
      "cell_type": "markdown",
      "source": [
        "#  Ejercicio: Representación de grafos"
      ]
    },
    {
      "metadata": {
        "id": "yaJdcGqy7tIr",
        "colab_type": "code",
        "colab": {}
      },
      "cell_type": "code",
      "source": [
        "edgeList = [[0, 2], [1, 3], [2, 3], [2, 4], [3, 5], [4, 5]]"
      ],
      "execution_count": 0,
      "outputs": []
    },
    {
      "metadata": {
        "id": "6Sf5OeHyC50M",
        "colab_type": "code",
        "colab": {
          "base_uri": "https://localhost:8080/",
          "height": 102
        },
        "outputId": "054ee099-1177-4fb2-c886-c5d40d6ab92d"
      },
      "cell_type": "code",
      "source": [
        "# lista de adyacencia implementada con diccionario\n",
        "start = timeit.default_timer()\n",
        "\n",
        "adjList = {}\n",
        "\n",
        "for elem in edgeList:\n",
        "  if elem[0] in adjList:\n",
        "      adjList[elem[0]].append(elem[1])\n",
        "  else:\n",
        "    adjList[elem[0]] = [elem[1]]\n",
        "    \n",
        "values = adjList.values()\n",
        "\n",
        "stop = timeit.default_timer()\n",
        "execution_time = stop - start\n",
        "\n",
        "print(\"Lista de adyacencia:\")\n",
        "print(\"\\n {}\".format(list(values)))\n",
        "print(\"\\n Time: {}\".format(execution_time)) "
      ],
      "execution_count": 69,
      "outputs": [
        {
          "output_type": "stream",
          "text": [
            "Lista de adyacencia:\n",
            "\n",
            " [[2], [3], [3, 4], [5], [5]]\n",
            "\n",
            " Time: 0.00013894499988964526\n"
          ],
          "name": "stdout"
        }
      ]
    },
    {
      "metadata": {
        "id": "G1mSeRWG7T5y",
        "colab_type": "code",
        "colab": {
          "base_uri": "https://localhost:8080/",
          "height": 187
        },
        "outputId": "f62beea0-ca11-4c0f-e1ab-1a7fe9326f4e"
      },
      "cell_type": "code",
      "source": [
        "# matriz de adyacencia\n",
        "start = timeit.default_timer()\n",
        "\n",
        "size = max(max(adjList.keys()), max(max(adjList.values()))) +  1\n",
        "adjMatrix = np.zeros((size, size), dtype=np.int8)\n",
        "\n",
        "for key_list in adjList.keys():\n",
        "  for index in adjList[key_list]:\n",
        "    adjMatrix[key_list, index] = 1\n",
        "\n",
        "stop = timeit.default_timer()\n",
        "execution_time = stop - start\n",
        "\n",
        "print(\"Matriz de adyacencia:\")\n",
        "print(\"\\n {}\".format(adjMatrix))\n",
        "print(\"\\n Time: {}\".format(execution_time)) "
      ],
      "execution_count": 70,
      "outputs": [
        {
          "output_type": "stream",
          "text": [
            "Matriz de adyacencia:\n",
            "\n",
            " [[0 0 1 0 0 0]\n",
            " [0 0 0 1 0 0]\n",
            " [0 0 0 1 1 0]\n",
            " [0 0 0 0 0 1]\n",
            " [0 0 0 0 0 1]\n",
            " [0 0 0 0 0 0]]\n",
            "\n",
            " Time: 0.00017312599993601907\n"
          ],
          "name": "stdout"
        }
      ]
    }
  ]
}